{
 "cells": [
  {
   "cell_type": "markdown",
   "id": "9aab115e",
   "metadata": {},
   "source": [
    "# Importing Libaries and Data Sets"
   ]
  },
  {
   "cell_type": "code",
   "execution_count": 118,
   "id": "c1ab2235",
   "metadata": {},
   "outputs": [
    {
     "name": "stdout",
     "output_type": "stream",
     "text": [
      "89\n"
     ]
    },
    {
     "data": {
      "text/html": [
       "<div>\n",
       "<style scoped>\n",
       "    .dataframe tbody tr th:only-of-type {\n",
       "        vertical-align: middle;\n",
       "    }\n",
       "\n",
       "    .dataframe tbody tr th {\n",
       "        vertical-align: top;\n",
       "    }\n",
       "\n",
       "    .dataframe thead th {\n",
       "        text-align: right;\n",
       "    }\n",
       "</style>\n",
       "<table border=\"1\" class=\"dataframe\">\n",
       "  <thead>\n",
       "    <tr style=\"text-align: right;\">\n",
       "      <th></th>\n",
       "      <th>CITY_TYPE</th>\n",
       "      <th>CITY</th>\n",
       "      <th>COMMUNITY</th>\n",
       "      <th>LABEL</th>\n",
       "      <th>City_Community</th>\n",
       "      <th>Cases</th>\n",
       "      <th>Case_Rate</th>\n",
       "      <th>Deaths</th>\n",
       "      <th>Death_Rate</th>\n",
       "      <th>Percent_of_People_with_1__Dose</th>\n",
       "      <th>Percent_of_People_Fully_Vaccinated</th>\n",
       "    </tr>\n",
       "  </thead>\n",
       "  <tbody>\n",
       "    <tr>\n",
       "      <th>0</th>\n",
       "      <td>City</td>\n",
       "      <td>Agoura Hills</td>\n",
       "      <td></td>\n",
       "      <td>City of Agoura Hills</td>\n",
       "      <td>City of Agoura Hills</td>\n",
       "      <td>4220</td>\n",
       "      <td>20208.0</td>\n",
       "      <td>22</td>\n",
       "      <td>105.0</td>\n",
       "      <td>0.85</td>\n",
       "      <td>0.80</td>\n",
       "    </tr>\n",
       "    <tr>\n",
       "      <th>1</th>\n",
       "      <td>City</td>\n",
       "      <td>Alhambra</td>\n",
       "      <td></td>\n",
       "      <td>City of Alhambra</td>\n",
       "      <td>City of Alhambra</td>\n",
       "      <td>17044</td>\n",
       "      <td>19653.0</td>\n",
       "      <td>255</td>\n",
       "      <td>294.0</td>\n",
       "      <td>0.87</td>\n",
       "      <td>0.81</td>\n",
       "    </tr>\n",
       "    <tr>\n",
       "      <th>2</th>\n",
       "      <td>City</td>\n",
       "      <td>Arcadia</td>\n",
       "      <td></td>\n",
       "      <td>City of Arcadia</td>\n",
       "      <td>City of Arcadia</td>\n",
       "      <td>8145</td>\n",
       "      <td>14103.0</td>\n",
       "      <td>165</td>\n",
       "      <td>286.0</td>\n",
       "      <td>0.91</td>\n",
       "      <td>0.84</td>\n",
       "    </tr>\n",
       "    <tr>\n",
       "      <th>3</th>\n",
       "      <td>City</td>\n",
       "      <td>Artesia</td>\n",
       "      <td></td>\n",
       "      <td>City of Artesia</td>\n",
       "      <td>City of Artesia</td>\n",
       "      <td>4186</td>\n",
       "      <td>24924.0</td>\n",
       "      <td>88</td>\n",
       "      <td>524.0</td>\n",
       "      <td>0.87</td>\n",
       "      <td>0.80</td>\n",
       "    </tr>\n",
       "    <tr>\n",
       "      <th>4</th>\n",
       "      <td>City</td>\n",
       "      <td>Avalon</td>\n",
       "      <td></td>\n",
       "      <td>City of Avalon</td>\n",
       "      <td>City of Avalon</td>\n",
       "      <td>63</td>\n",
       "      <td>1628.0</td>\n",
       "      <td>0</td>\n",
       "      <td>0.0</td>\n",
       "      <td>0.27</td>\n",
       "      <td>0.23</td>\n",
       "    </tr>\n",
       "  </tbody>\n",
       "</table>\n",
       "</div>"
      ],
      "text/plain": [
       "  CITY_TYPE          CITY COMMUNITY                 LABEL  \\\n",
       "0      City  Agoura Hills            City of Agoura Hills   \n",
       "1      City      Alhambra                City of Alhambra   \n",
       "2      City       Arcadia                 City of Arcadia   \n",
       "3      City       Artesia                 City of Artesia   \n",
       "4      City        Avalon                  City of Avalon   \n",
       "\n",
       "         City_Community  Cases  Case_Rate  Deaths  Death_Rate  \\\n",
       "0  City of Agoura Hills   4220    20208.0      22       105.0   \n",
       "1      City of Alhambra  17044    19653.0     255       294.0   \n",
       "2       City of Arcadia   8145    14103.0     165       286.0   \n",
       "3       City of Artesia   4186    24924.0      88       524.0   \n",
       "4        City of Avalon     63     1628.0       0         0.0   \n",
       "\n",
       "   Percent_of_People_with_1__Dose  Percent_of_People_Fully_Vaccinated  \n",
       "0                            0.85                                0.80  \n",
       "1                            0.87                                0.81  \n",
       "2                            0.91                                0.84  \n",
       "3                            0.87                                0.80  \n",
       "4                            0.27                                0.23  "
      ]
     },
     "execution_count": 118,
     "metadata": {},
     "output_type": "execute_result"
    }
   ],
   "source": [
    "import pandas as pd\n",
    "\n",
    "vacc = pd.read_csv(\"Orignal Data/Vaccination_Rates_by_Neighborhood.csv\")\n",
    "income = pd.read_csv(\"Orignal Data/LA_Median_Income_By_Neighborhood.csv\")\n",
    "population = pd.read_csv(\"Orignal Data/Population_Density_by_Neighborhood.csv\")\n",
    "print(len(vacc[\"CITY\"].unique()))\n",
    "vacc.head()"
   ]
  },
  {
   "cell_type": "markdown",
   "id": "f7c51fb8",
   "metadata": {},
   "source": [
    "# Convert Dollar Values to Int"
   ]
  },
  {
   "cell_type": "code",
   "execution_count": 119,
   "id": "f3a41eb1",
   "metadata": {},
   "outputs": [
    {
     "data": {
      "text/html": [
       "<div>\n",
       "<style scoped>\n",
       "    .dataframe tbody tr th:only-of-type {\n",
       "        vertical-align: middle;\n",
       "    }\n",
       "\n",
       "    .dataframe tbody tr th {\n",
       "        vertical-align: top;\n",
       "    }\n",
       "\n",
       "    .dataframe thead th {\n",
       "        text-align: right;\n",
       "    }\n",
       "</style>\n",
       "<table border=\"1\" class=\"dataframe\">\n",
       "  <thead>\n",
       "    <tr style=\"text-align: right;\">\n",
       "      <th></th>\n",
       "      <th>rank</th>\n",
       "      <th>NEIGHBORHOOD</th>\n",
       "      <th>MEDIAN INCOME</th>\n",
       "    </tr>\n",
       "  </thead>\n",
       "  <tbody>\n",
       "    <tr>\n",
       "      <th>0</th>\n",
       "      <td>1</td>\n",
       "      <td>Bel-Air</td>\n",
       "      <td>207938</td>\n",
       "    </tr>\n",
       "    <tr>\n",
       "      <th>1</th>\n",
       "      <td>2</td>\n",
       "      <td>Hidden Hills</td>\n",
       "      <td>203199</td>\n",
       "    </tr>\n",
       "    <tr>\n",
       "      <th>2</th>\n",
       "      <td>3</td>\n",
       "      <td>Rolling Hills</td>\n",
       "      <td>184777</td>\n",
       "    </tr>\n",
       "    <tr>\n",
       "      <th>3</th>\n",
       "      <td>4</td>\n",
       "      <td>Beverly Crest</td>\n",
       "      <td>169282</td>\n",
       "    </tr>\n",
       "    <tr>\n",
       "      <th>4</th>\n",
       "      <td>5</td>\n",
       "      <td>Pacific Palisades</td>\n",
       "      <td>168008</td>\n",
       "    </tr>\n",
       "  </tbody>\n",
       "</table>\n",
       "</div>"
      ],
      "text/plain": [
       "   rank       NEIGHBORHOOD  MEDIAN INCOME\n",
       "0     1            Bel-Air         207938\n",
       "1     2       Hidden Hills         203199\n",
       "2     3      Rolling Hills         184777\n",
       "3     4      Beverly Crest         169282\n",
       "4     5  Pacific Palisades         168008"
      ]
     },
     "execution_count": 119,
     "metadata": {},
     "output_type": "execute_result"
    }
   ],
   "source": [
    "income[\"MEDIAN INCOME\"] = income[\"MEDIAN INCOME\"].str.replace('$', '', regex=False).str.replace(',', '', regex=False)\n",
    "income[\"MEDIAN INCOME\"] = income[\"MEDIAN INCOME\"].astype(int)\n",
    "\n",
    "population[\"POPULATION PER SQMI\"] = population[\"POPULATION PER SQMI\"].str.replace(',', '', regex=False)\n",
    "population[\"POPULATION PER SQMI\"] = population[\"POPULATION PER SQMI\"].astype(int)\n",
    "\n",
    "#Fix spelling of one Neighborhood\n",
    "# \"La Cañada Flintridge\"\n",
    "income[\"NEIGHBORHOOD\"] = income[\"NEIGHBORHOOD\"].replace(\"La Cañada Flintridge\", \"La Canada Flintridge\")\n",
    "population[\"NEIGHBORHOOD\"] = population[\"NEIGHBORHOOD\"].replace(\"La Cañada Flintridge\", \"La Canada Flintridge\")\n",
    "\n",
    "#add commulities to cities\n",
    "vacc.loc[vacc['CITY'] == 'Los Angeles', 'CITY'] = vacc.loc[vacc['CITY'] == 'Los Angeles', 'COMMUNITY']\n",
    "\n",
    "\n",
    "income.head()"
   ]
  },
  {
   "cell_type": "markdown",
   "id": "5f7480a0",
   "metadata": {},
   "source": [
    "# Find What \"Neighborhoods\" Are In Both Datasets"
   ]
  },
  {
   "cell_type": "code",
   "execution_count": 120,
   "id": "89aab346",
   "metadata": {},
   "outputs": [
    {
     "name": "stdout",
     "output_type": "stream",
     "text": [
      "173\n",
      "{'Cudahy', 'Porter Ranch', 'Downtown', 'Valley Village', 'Agoura Hills', 'Downey', 'Commerce', 'La Habra Heights', 'Bradbury', 'Claremont', 'La Mirada', 'Encino', 'Calabasas', 'Elysian Park', 'Panorama City', 'South Pasadena', 'Rosemead', 'Walnut', 'Signal Hill', 'Santa Fe Springs', 'La Canada Flintridge', 'Arleta', 'Bell', 'Diamond Bar', 'Huntington Park', 'Arcadia', 'Northridge', 'Westlake', 'Monrovia', 'Baldwin Park', 'El Sereno', 'Boyle Heights', 'Valley Glen', 'Granada Hills', 'Lincoln Heights', 'Wilmington', 'Azusa', 'Vermont Vista', 'Pomona', 'Artesia', 'La Verne', 'Jefferson Park', 'Hermosa Beach', 'Pacific Palisades', 'Venice', 'West Adams', 'Rancho Palos Verdes', 'Harbor City', 'Sylmar', 'Hawthorne', 'Gardena', 'Eagle Rock', 'Rolling Hills Estates', 'Lomita', 'Lynwood', 'San Marino', 'Beverly Crest', 'Santa Clarita', 'San Pedro', 'Lawndale', 'Pacoima', 'Leimert Park', 'Vermont Square', 'Harbor Gateway', 'El Monte', 'Studio City', 'Vermont Knolls', 'Hidden Hills', 'Canoga Park', 'Westlake Village', 'Alhambra', 'Lancaster', 'Rolling Hills', 'Hyde Park', 'Van Nuys', 'Norwalk', 'Culver City', 'Temple City', 'Beverlywood', 'North Hills', 'Rancho Park', 'Brentwood', 'Winnetka', 'Shadow Hills', 'Palms', 'Duarte', 'San Dimas', 'South Gate', 'Los Feliz', 'Hollywood', 'Elysian Valley', 'Westwood', 'Covina', 'Manhattan Beach', 'Century City', 'Avalon', 'Harvard Heights', 'Irwindale', 'Montebello', 'Echo Park', 'Glendora', 'South El Monte', 'Cerritos', 'Tarzana', 'Woodland Hills', 'Pasadena', 'San Fernando', 'Torrance', 'Hollywood Hills', 'Reseda', 'Paramount', 'Burbank', 'Mar Vista', 'Green Meadows', 'Beverly Hills', 'Harvard Park', 'North Hollywood', 'Palos Verdes Estates', 'Exposition Park', 'Cheviot Hills', 'Tujunga', 'Santa Monica', 'Watts', 'Mission Hills', 'Toluca Lake', 'Westchester', 'Hancock Park', 'Playa Vista', 'Atwater Village', 'San Gabriel', 'Adams-Normandie', 'Florence-Firestone', 'Carson', 'Sierra Madre', 'West Hills', 'La Puente', 'Glendale', 'Lakewood', 'West Los Angeles', 'Sun Valley', 'Maywood', 'Koreatown', 'Monterey Park', 'Del Rey', 'West Hollywood', 'Long Beach', 'Inglewood', 'Lake Balboa', 'Whittier', 'West Covina', 'El Segundo', 'Highland Park', 'Palmdale', 'Pico-Union', 'Industry', 'Manchester Square', 'Compton', 'University Park', 'Glassell Park', 'Sunland', 'Redondo Beach', 'Sherman Oaks', 'Vernon', 'Malibu', 'Chinatown', 'Pico Rivera', 'East Hollywood', 'Chatsworth', 'Bellflower', 'Bell Gardens', 'Hawaiian Gardens', 'Carthay', 'South Park'}\n"
     ]
    }
   ],
   "source": [
    "#Find \"Neighborhoods\" found in both datasets\n",
    "common_values = set(income[\"NEIGHBORHOOD\"].unique().tolist()).intersection(set(vacc[\"CITY\"].unique().tolist()))\n",
    "\n",
    "#Count the number of common values\n",
    "count = len(common_values)\n",
    "print(count)\n",
    "print(common_values)"
   ]
  },
  {
   "cell_type": "markdown",
   "id": "c0d2e086",
   "metadata": {},
   "source": [
    "# Determine What \"Neighborhoods\" Are In The Vaccination Dataset, But Not In the Income Dataset"
   ]
  },
  {
   "cell_type": "code",
   "execution_count": 121,
   "id": "a8042002",
   "metadata": {},
   "outputs": [
    {
     "name": "stdout",
     "output_type": "stream",
     "text": [
      "['Gramercy Place', 'Harbor Pines', 'South Carthay', 'Vernon Central', 'Mandeville Canyon', 'View Heights', 'Park La Brea', 'Thai Town', 'Country Club Park', 'Mt. Washington', 'Cadillac-Corning', 'Angeles National Forest', 'Wilshire Center', 'Century Palms/Cove', 'Wellington Square', 'Silverlake', 'St Elmo Village', 'Palisades Highlands', 'Temple-Beaudry', 'Little Bangladesh', 'Exposition', 'Toluca Terrace', 'Angelino Heights', 'Playa Del Rey', 'Victoria Park', 'University Hills', 'Reseda Ranch', 'Melrose', 'Alsace', 'Lakeview Terrace', 'Reynier Village', 'Regent Square', 'Historic Filipinotown', 'Unincorporated', 'Little Armenia', 'Marina Peninsula', 'Crestview', 'Lafayette Square', 'Crenshaw District', 'Sycamore Square', 'Toluca Woods', 'Baldwin Hills', 'Mid-city', 'Miracle Mile', 'Longwood', 'Brookside', 'Cloverdale/Cochran', 'Little Tokyo', 'West Vernon', 'Figueroa Park Square', 'Central', 'Wholesale District', 'Faircrest Heights', 'Bel Air']\n"
     ]
    }
   ],
   "source": [
    "# Convert coumns to sets\n",
    "set1 = set(vacc[\"CITY\"].unique().tolist())\n",
    "\n",
    "# Find values not in both sets\n",
    "values_not_in_both = list(set1.symmetric_difference(common_values))\n",
    "\n",
    "# Print the list of values not found in both lists\n",
    "print(values_not_in_both)\n"
   ]
  },
  {
   "cell_type": "markdown",
   "id": "a7f076c2",
   "metadata": {},
   "source": [
    "# Trim Both Datasets So They Only have \"Neighborhoods\" That Are In Common"
   ]
  },
  {
   "cell_type": "code",
   "execution_count": 122,
   "id": "a71a273b",
   "metadata": {},
   "outputs": [
    {
     "name": "stdout",
     "output_type": "stream",
     "text": [
      "173\n",
      "173\n"
     ]
    },
    {
     "data": {
      "text/html": [
       "<div>\n",
       "<style scoped>\n",
       "    .dataframe tbody tr th:only-of-type {\n",
       "        vertical-align: middle;\n",
       "    }\n",
       "\n",
       "    .dataframe tbody tr th {\n",
       "        vertical-align: top;\n",
       "    }\n",
       "\n",
       "    .dataframe thead th {\n",
       "        text-align: right;\n",
       "    }\n",
       "</style>\n",
       "<table border=\"1\" class=\"dataframe\">\n",
       "  <thead>\n",
       "    <tr style=\"text-align: right;\">\n",
       "      <th></th>\n",
       "      <th>NEIGHBORHOOD</th>\n",
       "      <th>MEDIAN INCOME</th>\n",
       "      <th>POPULATION PER SQMI</th>\n",
       "    </tr>\n",
       "  </thead>\n",
       "  <tbody>\n",
       "    <tr>\n",
       "      <th>1</th>\n",
       "      <td>Hidden Hills</td>\n",
       "      <td>203199</td>\n",
       "      <td>1100</td>\n",
       "    </tr>\n",
       "    <tr>\n",
       "      <th>2</th>\n",
       "      <td>Rolling Hills</td>\n",
       "      <td>184777</td>\n",
       "      <td>893</td>\n",
       "    </tr>\n",
       "    <tr>\n",
       "      <th>3</th>\n",
       "      <td>Beverly Crest</td>\n",
       "      <td>169282</td>\n",
       "      <td>1318</td>\n",
       "    </tr>\n",
       "    <tr>\n",
       "      <th>4</th>\n",
       "      <td>Pacific Palisades</td>\n",
       "      <td>168008</td>\n",
       "      <td>1048</td>\n",
       "    </tr>\n",
       "    <tr>\n",
       "      <th>5</th>\n",
       "      <td>Palos Verdes Estates</td>\n",
       "      <td>167344</td>\n",
       "      <td>2822</td>\n",
       "    </tr>\n",
       "  </tbody>\n",
       "</table>\n",
       "</div>"
      ],
      "text/plain": [
       "           NEIGHBORHOOD  MEDIAN INCOME  POPULATION PER SQMI\n",
       "1          Hidden Hills         203199                 1100\n",
       "2         Rolling Hills         184777                  893\n",
       "3         Beverly Crest         169282                 1318\n",
       "4     Pacific Palisades         168008                 1048\n",
       "5  Palos Verdes Estates         167344                 2822"
      ]
     },
     "execution_count": 122,
     "metadata": {},
     "output_type": "execute_result"
    }
   ],
   "source": [
    "#Filter Vaccination Dataset\n",
    "vacc = vacc[vacc['CITY'].isin(common_values)]\n",
    "\n",
    "#merge income and population\n",
    "income = pd.merge(income, population, on=\"NEIGHBORHOOD\")\n",
    "#     drop columns\n",
    "income = income[[\"NEIGHBORHOOD\", \"MEDIAN INCOME\", \"POPULATION PER SQMI\"]]\n",
    "\n",
    "#Filter Income and Population Dataset\n",
    "income = income[income['NEIGHBORHOOD'].isin(common_values)]\n",
    "\n",
    "#Print the sizes of the filtered DataFrame\n",
    "print(len(vacc))\n",
    "print(len(income))\n",
    "income.head()"
   ]
  },
  {
   "cell_type": "markdown",
   "id": "7925916a",
   "metadata": {},
   "source": [
    "# Add \"Income Level\" Column (High, Medium, Low)"
   ]
  },
  {
   "cell_type": "code",
   "execution_count": 123,
   "id": "de00160f",
   "metadata": {},
   "outputs": [
    {
     "data": {
      "text/html": [
       "<div>\n",
       "<style scoped>\n",
       "    .dataframe tbody tr th:only-of-type {\n",
       "        vertical-align: middle;\n",
       "    }\n",
       "\n",
       "    .dataframe tbody tr th {\n",
       "        vertical-align: top;\n",
       "    }\n",
       "\n",
       "    .dataframe thead th {\n",
       "        text-align: right;\n",
       "    }\n",
       "</style>\n",
       "<table border=\"1\" class=\"dataframe\">\n",
       "  <thead>\n",
       "    <tr style=\"text-align: right;\">\n",
       "      <th></th>\n",
       "      <th>NEIGHBORHOOD</th>\n",
       "      <th>MEDIAN INCOME</th>\n",
       "      <th>POPULATION PER SQMI</th>\n",
       "      <th>income level</th>\n",
       "    </tr>\n",
       "  </thead>\n",
       "  <tbody>\n",
       "    <tr>\n",
       "      <th>1</th>\n",
       "      <td>Hidden Hills</td>\n",
       "      <td>203199</td>\n",
       "      <td>1100</td>\n",
       "      <td>high</td>\n",
       "    </tr>\n",
       "    <tr>\n",
       "      <th>2</th>\n",
       "      <td>Rolling Hills</td>\n",
       "      <td>184777</td>\n",
       "      <td>893</td>\n",
       "      <td>high</td>\n",
       "    </tr>\n",
       "    <tr>\n",
       "      <th>3</th>\n",
       "      <td>Beverly Crest</td>\n",
       "      <td>169282</td>\n",
       "      <td>1318</td>\n",
       "      <td>high</td>\n",
       "    </tr>\n",
       "    <tr>\n",
       "      <th>4</th>\n",
       "      <td>Pacific Palisades</td>\n",
       "      <td>168008</td>\n",
       "      <td>1048</td>\n",
       "      <td>high</td>\n",
       "    </tr>\n",
       "    <tr>\n",
       "      <th>5</th>\n",
       "      <td>Palos Verdes Estates</td>\n",
       "      <td>167344</td>\n",
       "      <td>2822</td>\n",
       "      <td>high</td>\n",
       "    </tr>\n",
       "  </tbody>\n",
       "</table>\n",
       "</div>"
      ],
      "text/plain": [
       "           NEIGHBORHOOD  MEDIAN INCOME  POPULATION PER SQMI income level\n",
       "1          Hidden Hills         203199                 1100         high\n",
       "2         Rolling Hills         184777                  893         high\n",
       "3         Beverly Crest         169282                 1318         high\n",
       "4     Pacific Palisades         168008                 1048         high\n",
       "5  Palos Verdes Estates         167344                 2822         high"
      ]
     },
     "execution_count": 123,
     "metadata": {},
     "output_type": "execute_result"
    }
   ],
   "source": [
    "#add income levels\n",
    "# high is 75675 and above\n",
    "# medium is 52146 and above\n",
    "\n",
    "#bins and labels of the ranges\n",
    "bins = [0, 52146, 75675, float('inf')]\n",
    "labels = ['low', 'medium', 'high']\n",
    "\n",
    "#Apply bins to df2 and make a column for \"income level\"\n",
    "income['income level'] = pd.cut(income['MEDIAN INCOME'], bins=bins, labels=labels, right=False)\n",
    "income.head()"
   ]
  },
  {
   "cell_type": "markdown",
   "id": "8ee4b7af",
   "metadata": {},
   "source": [
    "# Save CSVs"
   ]
  },
  {
   "cell_type": "code",
   "execution_count": 124,
   "id": "cf9497af",
   "metadata": {},
   "outputs": [],
   "source": [
    "# Save the modified DataFrame as a CSV file\n",
    "vacc.to_csv('Cleaned Data/Vaccination_Rates.csv', index=False)\n",
    "income.to_csv('Cleaned Data/Median_Income.csv', index=False)"
   ]
  },
  {
   "cell_type": "code",
   "execution_count": null,
   "id": "657fe983",
   "metadata": {},
   "outputs": [],
   "source": []
  },
  {
   "cell_type": "code",
   "execution_count": null,
   "id": "a61f380e",
   "metadata": {},
   "outputs": [],
   "source": []
  },
  {
   "cell_type": "code",
   "execution_count": null,
   "id": "72b71e68",
   "metadata": {},
   "outputs": [],
   "source": []
  }
 ],
 "metadata": {
  "kernelspec": {
   "display_name": "Python 3 (ipykernel)",
   "language": "python",
   "name": "python3"
  },
  "language_info": {
   "codemirror_mode": {
    "name": "ipython",
    "version": 3
   },
   "file_extension": ".py",
   "mimetype": "text/x-python",
   "name": "python",
   "nbconvert_exporter": "python",
   "pygments_lexer": "ipython3",
   "version": "3.10.9"
  }
 },
 "nbformat": 4,
 "nbformat_minor": 5
}
