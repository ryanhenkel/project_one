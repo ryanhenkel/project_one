{
 "cells": [
  {
   "cell_type": "markdown",
   "id": "cfc170c4",
   "metadata": {},
   "source": [
    "# Importing Libaries and Data Sets"
   ]
  },
  {
   "cell_type": "code",
   "execution_count": 25,
   "id": "c1ab2235",
   "metadata": {},
   "outputs": [
    {
     "name": "stdout",
     "output_type": "stream",
     "text": [
      "89\n"
     ]
    },
    {
     "data": {
      "text/html": [
       "<div>\n",
       "<style scoped>\n",
       "    .dataframe tbody tr th:only-of-type {\n",
       "        vertical-align: middle;\n",
       "    }\n",
       "\n",
       "    .dataframe tbody tr th {\n",
       "        vertical-align: top;\n",
       "    }\n",
       "\n",
       "    .dataframe thead th {\n",
       "        text-align: right;\n",
       "    }\n",
       "</style>\n",
       "<table border=\"1\" class=\"dataframe\">\n",
       "  <thead>\n",
       "    <tr style=\"text-align: right;\">\n",
       "      <th></th>\n",
       "      <th>CITY_TYPE</th>\n",
       "      <th>CITY</th>\n",
       "      <th>COMMUNITY</th>\n",
       "      <th>LABEL</th>\n",
       "      <th>City_Community</th>\n",
       "      <th>Cases</th>\n",
       "      <th>Case_Rate</th>\n",
       "      <th>Deaths</th>\n",
       "      <th>Death_Rate</th>\n",
       "      <th>Percent_of_People_with_1__Dose</th>\n",
       "      <th>Percent_of_People_Fully_Vaccinated</th>\n",
       "    </tr>\n",
       "  </thead>\n",
       "  <tbody>\n",
       "    <tr>\n",
       "      <th>0</th>\n",
       "      <td>City</td>\n",
       "      <td>Agoura Hills</td>\n",
       "      <td></td>\n",
       "      <td>City of Agoura Hills</td>\n",
       "      <td>City of Agoura Hills</td>\n",
       "      <td>4220</td>\n",
       "      <td>20208.0</td>\n",
       "      <td>22</td>\n",
       "      <td>105.0</td>\n",
       "      <td>0.85</td>\n",
       "      <td>0.80</td>\n",
       "    </tr>\n",
       "    <tr>\n",
       "      <th>1</th>\n",
       "      <td>City</td>\n",
       "      <td>Alhambra</td>\n",
       "      <td></td>\n",
       "      <td>City of Alhambra</td>\n",
       "      <td>City of Alhambra</td>\n",
       "      <td>17044</td>\n",
       "      <td>19653.0</td>\n",
       "      <td>255</td>\n",
       "      <td>294.0</td>\n",
       "      <td>0.87</td>\n",
       "      <td>0.81</td>\n",
       "    </tr>\n",
       "    <tr>\n",
       "      <th>2</th>\n",
       "      <td>City</td>\n",
       "      <td>Arcadia</td>\n",
       "      <td></td>\n",
       "      <td>City of Arcadia</td>\n",
       "      <td>City of Arcadia</td>\n",
       "      <td>8145</td>\n",
       "      <td>14103.0</td>\n",
       "      <td>165</td>\n",
       "      <td>286.0</td>\n",
       "      <td>0.91</td>\n",
       "      <td>0.84</td>\n",
       "    </tr>\n",
       "    <tr>\n",
       "      <th>3</th>\n",
       "      <td>City</td>\n",
       "      <td>Artesia</td>\n",
       "      <td></td>\n",
       "      <td>City of Artesia</td>\n",
       "      <td>City of Artesia</td>\n",
       "      <td>4186</td>\n",
       "      <td>24924.0</td>\n",
       "      <td>88</td>\n",
       "      <td>524.0</td>\n",
       "      <td>0.87</td>\n",
       "      <td>0.80</td>\n",
       "    </tr>\n",
       "    <tr>\n",
       "      <th>4</th>\n",
       "      <td>City</td>\n",
       "      <td>Avalon</td>\n",
       "      <td></td>\n",
       "      <td>City of Avalon</td>\n",
       "      <td>City of Avalon</td>\n",
       "      <td>63</td>\n",
       "      <td>1628.0</td>\n",
       "      <td>0</td>\n",
       "      <td>0.0</td>\n",
       "      <td>0.27</td>\n",
       "      <td>0.23</td>\n",
       "    </tr>\n",
       "  </tbody>\n",
       "</table>\n",
       "</div>"
      ],
      "text/plain": [
       "  CITY_TYPE          CITY COMMUNITY                 LABEL  \\\n",
       "0      City  Agoura Hills            City of Agoura Hills   \n",
       "1      City      Alhambra                City of Alhambra   \n",
       "2      City       Arcadia                 City of Arcadia   \n",
       "3      City       Artesia                 City of Artesia   \n",
       "4      City        Avalon                  City of Avalon   \n",
       "\n",
       "         City_Community  Cases  Case_Rate  Deaths  Death_Rate  \\\n",
       "0  City of Agoura Hills   4220    20208.0      22       105.0   \n",
       "1      City of Alhambra  17044    19653.0     255       294.0   \n",
       "2       City of Arcadia   8145    14103.0     165       286.0   \n",
       "3       City of Artesia   4186    24924.0      88       524.0   \n",
       "4        City of Avalon     63     1628.0       0         0.0   \n",
       "\n",
       "   Percent_of_People_with_1__Dose  Percent_of_People_Fully_Vaccinated  \n",
       "0                            0.85                                0.80  \n",
       "1                            0.87                                0.81  \n",
       "2                            0.91                                0.84  \n",
       "3                            0.87                                0.80  \n",
       "4                            0.27                                0.23  "
      ]
     },
     "execution_count": 25,
     "metadata": {},
     "output_type": "execute_result"
    }
   ],
   "source": [
    "import pandas as pd\n",
    "\n",
    "df = pd.read_csv(\"Orignal Data/Vaccination_Rates_by_Neighborhood.csv\")\n",
    "df2 = pd.read_csv(\"Orignal Data/LA_Median_Income_By_Neighborhood.csv\")\n",
    "print(len(df[\"CITY\"].unique()))\n",
    "df.head()"
   ]
  },
  {
   "cell_type": "markdown",
   "id": "ffd869fa",
   "metadata": {},
   "source": [
    "# Convert Dollar Values to Int"
   ]
  },
  {
   "cell_type": "code",
   "execution_count": 19,
   "id": "f3a41eb1",
   "metadata": {},
   "outputs": [
    {
     "data": {
      "text/html": [
       "<div>\n",
       "<style scoped>\n",
       "    .dataframe tbody tr th:only-of-type {\n",
       "        vertical-align: middle;\n",
       "    }\n",
       "\n",
       "    .dataframe tbody tr th {\n",
       "        vertical-align: top;\n",
       "    }\n",
       "\n",
       "    .dataframe thead th {\n",
       "        text-align: right;\n",
       "    }\n",
       "</style>\n",
       "<table border=\"1\" class=\"dataframe\">\n",
       "  <thead>\n",
       "    <tr style=\"text-align: right;\">\n",
       "      <th></th>\n",
       "      <th>rank</th>\n",
       "      <th>NEIGHBORHOOD</th>\n",
       "      <th>MEDIAN INCOME</th>\n",
       "    </tr>\n",
       "  </thead>\n",
       "  <tbody>\n",
       "    <tr>\n",
       "      <th>0</th>\n",
       "      <td>1</td>\n",
       "      <td>Bel-Air</td>\n",
       "      <td>207938</td>\n",
       "    </tr>\n",
       "    <tr>\n",
       "      <th>1</th>\n",
       "      <td>2</td>\n",
       "      <td>Hidden Hills</td>\n",
       "      <td>203199</td>\n",
       "    </tr>\n",
       "    <tr>\n",
       "      <th>2</th>\n",
       "      <td>3</td>\n",
       "      <td>Rolling Hills</td>\n",
       "      <td>184777</td>\n",
       "    </tr>\n",
       "    <tr>\n",
       "      <th>3</th>\n",
       "      <td>4</td>\n",
       "      <td>Beverly Crest</td>\n",
       "      <td>169282</td>\n",
       "    </tr>\n",
       "    <tr>\n",
       "      <th>4</th>\n",
       "      <td>5</td>\n",
       "      <td>Pacific Palisades</td>\n",
       "      <td>168008</td>\n",
       "    </tr>\n",
       "  </tbody>\n",
       "</table>\n",
       "</div>"
      ],
      "text/plain": [
       "   rank       NEIGHBORHOOD  MEDIAN INCOME\n",
       "0     1            Bel-Air         207938\n",
       "1     2       Hidden Hills         203199\n",
       "2     3      Rolling Hills         184777\n",
       "3     4      Beverly Crest         169282\n",
       "4     5  Pacific Palisades         168008"
      ]
     },
     "execution_count": 19,
     "metadata": {},
     "output_type": "execute_result"
    }
   ],
   "source": [
    "df2[\"MEDIAN INCOME\"] = df2[\"MEDIAN INCOME\"].str.replace('$', '', regex=False).str.replace(',', '', regex=False)\n",
    "df2[\"MEDIAN INCOME\"] = df2[\"MEDIAN INCOME\"].astype(int)\n",
    "df2.head()"
   ]
  },
  {
   "cell_type": "markdown",
   "id": "9bfbfcca",
   "metadata": {},
   "source": [
    "# Find What \"Neighborhoods\" Are In Both Datasets"
   ]
  },
  {
   "cell_type": "code",
   "execution_count": 20,
   "id": "89aab346",
   "metadata": {},
   "outputs": [
    {
     "name": "stdout",
     "output_type": "stream",
     "text": [
      "86\n",
      "{'Bell', 'Hawaiian Gardens', 'Santa Fe Springs', 'Lomita', 'Rolling Hills Estates', 'Arcadia', 'Pico Rivera', 'South El Monte', 'Downey', 'Agoura Hills', 'Westlake Village', 'Calabasas', 'Santa Monica', 'Diamond Bar', 'Cerritos', 'Monterey Park', 'Alhambra', 'El Segundo', 'Glendora', 'Temple City', 'Sierra Madre', 'Commerce', 'Claremont', 'Pomona', 'Monrovia', 'Compton', 'Hermosa Beach', 'San Dimas', 'La Mirada', 'Rolling Hills', 'Santa Clarita', 'Carson', 'West Hollywood', 'Azusa', 'Manhattan Beach', 'Glendale', 'Cudahy', 'Gardena', 'Bradbury', 'Beverly Hills', 'Montebello', 'Burbank', 'Long Beach', 'Covina', 'Hawthorne', 'South Pasadena', 'West Covina', 'Walnut', 'Malibu', 'Lynwood', 'South Gate', 'Palos Verdes Estates', 'Artesia', 'Signal Hill', 'Industry', 'Whittier', 'Inglewood', 'Huntington Park', 'Norwalk', 'Lawndale', 'Bell Gardens', 'La Verne', 'Baldwin Park', 'La Habra Heights', 'San Fernando', 'Maywood', 'Torrance', 'Vernon', 'San Gabriel', 'Culver City', 'Pasadena', 'Hidden Hills', 'Irwindale', 'Duarte', 'Bellflower', 'La Puente', 'Lakewood', 'Rosemead', 'Redondo Beach', 'Paramount', 'Avalon', 'Rancho Palos Verdes', 'Lancaster', 'El Monte', 'Palmdale', 'San Marino'}\n"
     ]
    }
   ],
   "source": [
    "#Find \"Neighborhoods\" found in both datasets\n",
    "common_values = set(df2[\"NEIGHBORHOOD\"].unique().tolist()).intersection(set(df[\"CITY\"].unique().tolist()))\n",
    "\n",
    "#Count the number of common values\n",
    "count = len(common_values)\n",
    "print(count)\n",
    "print(common_values)"
   ]
  },
  {
   "cell_type": "markdown",
   "id": "990d6ae3",
   "metadata": {},
   "source": [
    "# Determine What \"Neighborhoods\" Are In The Vaccination Dataset, But Not In the Income Dataset"
   ]
  },
  {
   "cell_type": "code",
   "execution_count": 21,
   "id": "7fd3478b",
   "metadata": {},
   "outputs": [
    {
     "name": "stdout",
     "output_type": "stream",
     "text": [
      "['La Canada Flintridge', 'Los Angeles', 'Unincorporated']\n"
     ]
    }
   ],
   "source": [
    "# Convert coumns to sets\n",
    "set1 = set(df[\"CITY\"].unique().tolist())\n",
    "\n",
    "# Find values not in both sets\n",
    "values_not_in_both = list(set1.symmetric_difference(common_values))\n",
    "\n",
    "# Print the list of values not found in both lists\n",
    "print(values_not_in_both)\n"
   ]
  },
  {
   "cell_type": "markdown",
   "id": "6a73228d",
   "metadata": {},
   "source": [
    "# Trim Both Datasets So They Only have \"Neighborhoods\" That Are In Common"
   ]
  },
  {
   "cell_type": "code",
   "execution_count": 22,
   "id": "527a9c60",
   "metadata": {},
   "outputs": [
    {
     "name": "stdout",
     "output_type": "stream",
     "text": [
      "86\n",
      "86\n"
     ]
    }
   ],
   "source": [
    "#Filter Vaccination Dataset\n",
    "df = df[df['CITY'].isin(common_values)]\n",
    "\n",
    "#Filter Income Dataset\n",
    "df2 = df2[df2['NEIGHBORHOOD'].isin(common_values)]\n",
    "\n",
    "#Print the sizes of the filtered DataFrame\n",
    "print(len(df))\n",
    "print(len(df2))\n"
   ]
  },
  {
   "cell_type": "markdown",
   "id": "56bfbc45",
   "metadata": {},
   "source": [
    "# Add \"Income Level\" Column (High, Medium, Low)"
   ]
  },
  {
   "cell_type": "code",
   "execution_count": 23,
   "id": "de00160f",
   "metadata": {},
   "outputs": [
    {
     "data": {
      "text/html": [
       "<div>\n",
       "<style scoped>\n",
       "    .dataframe tbody tr th:only-of-type {\n",
       "        vertical-align: middle;\n",
       "    }\n",
       "\n",
       "    .dataframe tbody tr th {\n",
       "        vertical-align: top;\n",
       "    }\n",
       "\n",
       "    .dataframe thead th {\n",
       "        text-align: right;\n",
       "    }\n",
       "</style>\n",
       "<table border=\"1\" class=\"dataframe\">\n",
       "  <thead>\n",
       "    <tr style=\"text-align: right;\">\n",
       "      <th></th>\n",
       "      <th>rank</th>\n",
       "      <th>NEIGHBORHOOD</th>\n",
       "      <th>MEDIAN INCOME</th>\n",
       "      <th>income level</th>\n",
       "    </tr>\n",
       "  </thead>\n",
       "  <tbody>\n",
       "    <tr>\n",
       "      <th>1</th>\n",
       "      <td>2</td>\n",
       "      <td>Hidden Hills</td>\n",
       "      <td>203199</td>\n",
       "      <td>high</td>\n",
       "    </tr>\n",
       "    <tr>\n",
       "      <th>2</th>\n",
       "      <td>3</td>\n",
       "      <td>Rolling Hills</td>\n",
       "      <td>184777</td>\n",
       "      <td>high</td>\n",
       "    </tr>\n",
       "    <tr>\n",
       "      <th>5</th>\n",
       "      <td>6</td>\n",
       "      <td>Palos Verdes Estates</td>\n",
       "      <td>167344</td>\n",
       "      <td>high</td>\n",
       "    </tr>\n",
       "    <tr>\n",
       "      <th>6</th>\n",
       "      <td>7</td>\n",
       "      <td>San Marino</td>\n",
       "      <td>158855</td>\n",
       "      <td>high</td>\n",
       "    </tr>\n",
       "    <tr>\n",
       "      <th>8</th>\n",
       "      <td>9</td>\n",
       "      <td>Rolling Hills Estates</td>\n",
       "      <td>145628</td>\n",
       "      <td>high</td>\n",
       "    </tr>\n",
       "  </tbody>\n",
       "</table>\n",
       "</div>"
      ],
      "text/plain": [
       "   rank           NEIGHBORHOOD  MEDIAN INCOME income level\n",
       "1     2           Hidden Hills         203199         high\n",
       "2     3          Rolling Hills         184777         high\n",
       "5     6   Palos Verdes Estates         167344         high\n",
       "6     7             San Marino         158855         high\n",
       "8     9  Rolling Hills Estates         145628         high"
      ]
     },
     "execution_count": 23,
     "metadata": {},
     "output_type": "execute_result"
    }
   ],
   "source": [
    "#add income levels\n",
    "# high is 75675 and above\n",
    "# medium is 52146 and above\n",
    "\n",
    "#bins and labels of the ranges\n",
    "bins = [0, 52146, 75675, float('inf')]\n",
    "labels = ['low', 'medium', 'high']\n",
    "\n",
    "#Apply bins to df2 and make a column for \"income level\"\n",
    "df2['income level'] = pd.cut(df2['MEDIAN INCOME'], bins=bins, labels=labels, right=False)\n",
    "df2.head()"
   ]
  },
  {
   "cell_type": "markdown",
   "id": "1428690a",
   "metadata": {},
   "source": [
    "# Save CSVs"
   ]
  },
  {
   "cell_type": "code",
   "execution_count": 24,
   "id": "cf9497af",
   "metadata": {},
   "outputs": [],
   "source": [
    "# Save the modified DataFrame as a CSV file\n",
    "df.to_csv('Cleaned Data/Vaccination_Rates.csv', index=False)\n",
    "df2.to_csv('Cleaned Data/Median_Income.csv', index=False)"
   ]
  },
  {
   "cell_type": "code",
   "execution_count": null,
   "id": "b7851c1c",
   "metadata": {},
   "outputs": [],
   "source": []
  }
 ],
 "metadata": {
  "kernelspec": {
   "display_name": "Python 3 (ipykernel)",
   "language": "python",
   "name": "python3"
  },
  "language_info": {
   "codemirror_mode": {
    "name": "ipython",
    "version": 3
   },
   "file_extension": ".py",
   "mimetype": "text/x-python",
   "name": "python",
   "nbconvert_exporter": "python",
   "pygments_lexer": "ipython3",
   "version": "3.10.9"
  }
 },
 "nbformat": 4,
 "nbformat_minor": 5
}
