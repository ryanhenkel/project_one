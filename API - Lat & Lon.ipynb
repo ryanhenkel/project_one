{
 "cells": [
  {
   "cell_type": "markdown",
   "id": "8e1203da",
   "metadata": {},
   "source": [
    "# Imports"
   ]
  },
  {
   "cell_type": "code",
   "execution_count": 5,
   "id": "391e83df",
   "metadata": {},
   "outputs": [],
   "source": [
    "import requests\n",
    "import pandas as pd"
   ]
  },
  {
   "cell_type": "markdown",
   "id": "81b5c173",
   "metadata": {},
   "source": [
    "# Read CSV"
   ]
  },
  {
   "cell_type": "code",
   "execution_count": 36,
   "id": "646cfa9c",
   "metadata": {},
   "outputs": [
    {
     "name": "stdout",
     "output_type": "stream",
     "text": [
      "Index(['NEIGHBORHOOD', 'MEDIAN INCOME', 'POPULATION PER SQMI', 'income level'], dtype='object')\n"
     ]
    },
    {
     "data": {
      "text/html": [
       "<div>\n",
       "<style scoped>\n",
       "    .dataframe tbody tr th:only-of-type {\n",
       "        vertical-align: middle;\n",
       "    }\n",
       "\n",
       "    .dataframe tbody tr th {\n",
       "        vertical-align: top;\n",
       "    }\n",
       "\n",
       "    .dataframe thead th {\n",
       "        text-align: right;\n",
       "    }\n",
       "</style>\n",
       "<table border=\"1\" class=\"dataframe\">\n",
       "  <thead>\n",
       "    <tr style=\"text-align: right;\">\n",
       "      <th></th>\n",
       "      <th>NEIGHBORHOOD</th>\n",
       "      <th>MEDIAN INCOME</th>\n",
       "      <th>POPULATION PER SQMI</th>\n",
       "      <th>income level</th>\n",
       "    </tr>\n",
       "  </thead>\n",
       "  <tbody>\n",
       "    <tr>\n",
       "      <th>0</th>\n",
       "      <td>Hidden Hills</td>\n",
       "      <td>203199</td>\n",
       "      <td>1100</td>\n",
       "      <td>high</td>\n",
       "    </tr>\n",
       "    <tr>\n",
       "      <th>1</th>\n",
       "      <td>Rolling Hills</td>\n",
       "      <td>184777</td>\n",
       "      <td>893</td>\n",
       "      <td>high</td>\n",
       "    </tr>\n",
       "    <tr>\n",
       "      <th>2</th>\n",
       "      <td>Beverly Crest</td>\n",
       "      <td>169282</td>\n",
       "      <td>1318</td>\n",
       "      <td>high</td>\n",
       "    </tr>\n",
       "    <tr>\n",
       "      <th>3</th>\n",
       "      <td>Pacific Palisades</td>\n",
       "      <td>168008</td>\n",
       "      <td>1048</td>\n",
       "      <td>high</td>\n",
       "    </tr>\n",
       "    <tr>\n",
       "      <th>4</th>\n",
       "      <td>Palos Verdes Estates</td>\n",
       "      <td>167344</td>\n",
       "      <td>2822</td>\n",
       "      <td>high</td>\n",
       "    </tr>\n",
       "  </tbody>\n",
       "</table>\n",
       "</div>"
      ],
      "text/plain": [
       "           NEIGHBORHOOD  MEDIAN INCOME  POPULATION PER SQMI income level\n",
       "0          Hidden Hills         203199                 1100         high\n",
       "1         Rolling Hills         184777                  893         high\n",
       "2         Beverly Crest         169282                 1318         high\n",
       "3     Pacific Palisades         168008                 1048         high\n",
       "4  Palos Verdes Estates         167344                 2822         high"
      ]
     },
     "execution_count": 36,
     "metadata": {},
     "output_type": "execute_result"
    }
   ],
   "source": [
    "income = pd.read_csv(\"Cleaned Data/Median_Income.csv\")\n",
    "print(income.columns)\n",
    "income.head()"
   ]
  },
  {
   "cell_type": "markdown",
   "id": "6a50dafa",
   "metadata": {},
   "source": [
    "# Function for Making Requests"
   ]
  },
  {
   "cell_type": "code",
   "execution_count": 33,
   "id": "9b8a78d8",
   "metadata": {},
   "outputs": [],
   "source": [
    "def getLatLon(neighborhood):\n",
    "    url = \"https://nominatim.openstreetmap.org/search?format=json&q={neighborhood}, Los Angeles, CA\"\n",
    "    url = url.replace(\"{neighborhood}\", neighborhood)\n",
    "    page = requests.get(url)\n",
    "    data = page.json()\n",
    "    \n",
    "    if data:\n",
    "        lat = data[0]['lat']\n",
    "        lon = data[0]['lon']\n",
    "        \n",
    "        point = [lat, lon]\n",
    "        return point\n",
    "    else:\n",
    "        print(\"Request failed. Check your query or try again later.\")\n",
    "        return [0, 0]"
   ]
  },
  {
   "cell_type": "markdown",
   "id": "898a14f9",
   "metadata": {},
   "source": [
    "# Make Requests to OpenStreetMap"
   ]
  },
  {
   "cell_type": "code",
   "execution_count": 43,
   "id": "c80754d6",
   "metadata": {},
   "outputs": [],
   "source": [
    "lats = []\n",
    "lons = []\n",
    "for i in range(len(income)):\n",
    "    neighborhood = income[\"NEIGHBORHOOD\"][i]\n",
    "    point = getLatLon(neighborhood)\n",
    "    lats.append(point[0])\n",
    "    lons.append(point[1])\n"
   ]
  },
  {
   "cell_type": "markdown",
   "id": "acaf6dd7",
   "metadata": {},
   "source": [
    "# Add Lat and Lon to the CSV"
   ]
  },
  {
   "cell_type": "code",
   "execution_count": 44,
   "id": "29c084d5",
   "metadata": {},
   "outputs": [
    {
     "data": {
      "text/html": [
       "<div>\n",
       "<style scoped>\n",
       "    .dataframe tbody tr th:only-of-type {\n",
       "        vertical-align: middle;\n",
       "    }\n",
       "\n",
       "    .dataframe tbody tr th {\n",
       "        vertical-align: top;\n",
       "    }\n",
       "\n",
       "    .dataframe thead th {\n",
       "        text-align: right;\n",
       "    }\n",
       "</style>\n",
       "<table border=\"1\" class=\"dataframe\">\n",
       "  <thead>\n",
       "    <tr style=\"text-align: right;\">\n",
       "      <th></th>\n",
       "      <th>NEIGHBORHOOD</th>\n",
       "      <th>MEDIAN INCOME</th>\n",
       "      <th>POPULATION PER SQMI</th>\n",
       "      <th>income level</th>\n",
       "      <th>Lat</th>\n",
       "      <th>Lon</th>\n",
       "    </tr>\n",
       "  </thead>\n",
       "  <tbody>\n",
       "    <tr>\n",
       "      <th>0</th>\n",
       "      <td>Hidden Hills</td>\n",
       "      <td>203199</td>\n",
       "      <td>1100</td>\n",
       "      <td>high</td>\n",
       "      <td>34.164091</td>\n",
       "      <td>-118.657837</td>\n",
       "    </tr>\n",
       "    <tr>\n",
       "      <th>1</th>\n",
       "      <td>Rolling Hills</td>\n",
       "      <td>184777</td>\n",
       "      <td>893</td>\n",
       "      <td>high</td>\n",
       "      <td>33.7668041</td>\n",
       "      <td>-118.3496623</td>\n",
       "    </tr>\n",
       "    <tr>\n",
       "      <th>2</th>\n",
       "      <td>Beverly Crest</td>\n",
       "      <td>169282</td>\n",
       "      <td>1318</td>\n",
       "      <td>high</td>\n",
       "      <td>34.1167701</td>\n",
       "      <td>-118.4322607</td>\n",
       "    </tr>\n",
       "    <tr>\n",
       "      <th>3</th>\n",
       "      <td>Pacific Palisades</td>\n",
       "      <td>168008</td>\n",
       "      <td>1048</td>\n",
       "      <td>high</td>\n",
       "      <td>34.0480643</td>\n",
       "      <td>-118.5264706</td>\n",
       "    </tr>\n",
       "    <tr>\n",
       "      <th>4</th>\n",
       "      <td>Palos Verdes Estates</td>\n",
       "      <td>167344</td>\n",
       "      <td>2822</td>\n",
       "      <td>high</td>\n",
       "      <td>33.7872386</td>\n",
       "      <td>-118.401813</td>\n",
       "    </tr>\n",
       "  </tbody>\n",
       "</table>\n",
       "</div>"
      ],
      "text/plain": [
       "           NEIGHBORHOOD  MEDIAN INCOME  POPULATION PER SQMI income level  \\\n",
       "0          Hidden Hills         203199                 1100         high   \n",
       "1         Rolling Hills         184777                  893         high   \n",
       "2         Beverly Crest         169282                 1318         high   \n",
       "3     Pacific Palisades         168008                 1048         high   \n",
       "4  Palos Verdes Estates         167344                 2822         high   \n",
       "\n",
       "          Lat           Lon  \n",
       "0   34.164091   -118.657837  \n",
       "1  33.7668041  -118.3496623  \n",
       "2  34.1167701  -118.4322607  \n",
       "3  34.0480643  -118.5264706  \n",
       "4  33.7872386   -118.401813  "
      ]
     },
     "execution_count": 44,
     "metadata": {},
     "output_type": "execute_result"
    }
   ],
   "source": [
    "income[\"Lat\"] = lats\n",
    "income[\"Lon\"] = lons\n",
    "income.head()"
   ]
  },
  {
   "cell_type": "markdown",
   "id": "efd8abfb",
   "metadata": {},
   "source": [
    "# Save CSV"
   ]
  },
  {
   "cell_type": "code",
   "execution_count": 45,
   "id": "dafa5604",
   "metadata": {},
   "outputs": [],
   "source": [
    "income.to_csv('Cleaned Data/Median_Income.csv', index=False)"
   ]
  },
  {
   "cell_type": "code",
   "execution_count": null,
   "id": "29c1168c",
   "metadata": {},
   "outputs": [],
   "source": []
  }
 ],
 "metadata": {
  "kernelspec": {
   "display_name": "Python 3 (ipykernel)",
   "language": "python",
   "name": "python3"
  },
  "language_info": {
   "codemirror_mode": {
    "name": "ipython",
    "version": 3
   },
   "file_extension": ".py",
   "mimetype": "text/x-python",
   "name": "python",
   "nbconvert_exporter": "python",
   "pygments_lexer": "ipython3",
   "version": "3.10.9"
  }
 },
 "nbformat": 4,
 "nbformat_minor": 5
}
