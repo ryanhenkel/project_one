{
 "cells": [
  {
   "cell_type": "code",
   "execution_count": null,
   "id": "a3f5da21",
   "metadata": {},
   "outputs": [],
   "source": [
    "%matplotlib notebook"
   ]
  },
  {
   "cell_type": "code",
   "execution_count": null,
   "id": "9567dee0",
   "metadata": {},
   "outputs": [],
   "source": [
    "import matplotlib.pyplot as plt\n",
    "import numpy as np\n",
    "from scipy import stats\n",
    "import pandas as pd\n",
    "from scipy.stats import linregress\n",
    "import scipy.stats as stats"
   ]
  },
  {
   "cell_type": "code",
   "execution_count": null,
   "id": "27493df3",
   "metadata": {},
   "outputs": [],
   "source": [
    "#import csv\n",
    "median_income = \"../project_one/Cleaned data/Median_Income.csv\"\n",
    "vaccination_rates=\"../project_one/Cleaned data/Vaccination_Rates.csv\"\n",
    "\n",
    "median_income_df = pd.read_csv(median_income)\n",
    "vaccination_rates_df = pd.read_csv(vaccination_rates)\n",
    "\n",
    "merged_data = pd.merge(median_income_df, vaccination_rates_df, right_on='CITY',left_on='NEIGHBORHOOD')"
   ]
  },
  {
   "cell_type": "code",
   "execution_count": null,
   "id": "58ae1c98",
   "metadata": {},
   "outputs": [],
   "source": [
    "# Define a function to create Linear Regression plots\n",
    "def linearregression (df,x_column,y_column):\n",
    "    x_val=df[x_column]\n",
    "    y_val=df[y_column]\n",
    "    \n",
    "    #linear regression equation\n",
    "    (slope,intercept,r_value,p_value,std_err)=linregress(x_val,y_val)\n",
    "    \n",
    "    #scatter plot\n",
    "    plt.scatter(x_val,y_val,alpha=0.75,color=\"b\",edgecolors=\"black\",s=40)\n",
    "    \n",
    "    #regression line\n",
    "    plt.plot(x_val,intercept+slope*x_val,color=\"r\",label=\"Regression Line\")\n",
    "    \n",
    "    #print\n",
    "    print(f\"Correlation Coefficient (r): {r_value}\")\n",
    "    plt.show()"
   ]
  },
  {
   "cell_type": "code",
   "execution_count": null,
   "id": "eb0fc322",
   "metadata": {},
   "outputs": [],
   "source": [
    "#scatter of median income vs complete vaccination rate\n",
    "x_val=merged_data[\"MEDIAN INCOME\"]\n",
    "y_val=merged_data[\"Percent_of_People_Fully_Vaccinated\"]\n",
    "    \n",
    "plt.scatter(x_val,y_val)\n",
    "\n",
    "# Set axis labels and title\n",
    "plt.xlabel('Median Income')\n",
    "plt.ylabel('Vaccination Rate (%)')\n",
    "plt.title('Median Income vs. Complete Vaccination Rate')\n",
    "\n",
    "#linear regression\n",
    "linearregression(merged_data,\"MEDIAN INCOME\",\"Percent_of_People_Fully_Vaccinated\")\n",
    "\n",
    "#t-test\n",
    "t_statistic,p_value=stats.ttest_ind(x_val,y_val)\n",
    "print(\"P-value: \",p_value)\n",
    "\n",
    "# Display the plot\n",
    "plt.show()"
   ]
  },
  {
   "cell_type": "code",
   "execution_count": null,
   "id": "a9538963",
   "metadata": {},
   "outputs": [],
   "source": [
    "#scatter of median income vs population per sq mile\n",
    "x_val=merged_data[\"MEDIAN INCOME\"]\n",
    "y_val=merged_data[\"POPULATION PER SQMI\"]\n",
    "    \n",
    "plt.scatter(x_val,y_val)\n",
    "\n",
    "# Set axis labels and title\n",
    "plt.xlabel('Median Income')\n",
    "plt.ylabel('Population (per sqmi)')\n",
    "plt.title('Median Income vs. Population Density')\n",
    "\n",
    "#linear regression\n",
    "linearregression(merged_data,\"MEDIAN INCOME\",\"POPULATION PER SQMI\")\n",
    "\n",
    "#t-test\n",
    "t_statistic,p_value=stats.ttest_ind(x_val,y_val)\n",
    "print(\"P-value: \",p_value)\n",
    "\n",
    "# Display the plot\n",
    "plt.show()"
   ]
  },
  {
   "cell_type": "code",
   "execution_count": null,
   "id": "ba6d3303",
   "metadata": {},
   "outputs": [],
   "source": [
    "#scatter of population per sq mile vs percent of people fully vaccinated\n",
    "x_val=merged_data[\"POPULATION PER SQMI\"]\n",
    "y_val=merged_data[\"Percent_of_People_Fully_Vaccinated\"]\n",
    "    \n",
    "plt.scatter(x_val,y_val)\n",
    "\n",
    "# Set axis labels and title\n",
    "plt.xlabel('Population (per sqmi)')\n",
    "plt.ylabel('Vaccination Rate (%)')\n",
    "plt.title('Population Density vs. Complete Vaccination Rate')\n",
    "\n",
    "#linear regression\n",
    "linearregression(merged_data,\"POPULATION PER SQMI\",\"Percent_of_People_Fully_Vaccinated\")\n",
    "\n",
    "#t-test\n",
    "t_statistic,p_value=stats.ttest_ind(x_val,y_val)\n",
    "print(\"P-value: \",p_value)\n",
    "\n",
    "# Display the plot\n",
    "plt.show()"
   ]
  },
  {
   "cell_type": "code",
   "execution_count": null,
   "id": "3cd423a8",
   "metadata": {},
   "outputs": [],
   "source": [
    "#Covid case numbers are per 100,000 people. calculate from raw data\n",
    "new_case_rate=merged_data[\"Case_Rate\"].div(100000).round(2)\n",
    "print(new_case_rate)"
   ]
  },
  {
   "cell_type": "code",
   "execution_count": null,
   "id": "0eee006b",
   "metadata": {},
   "outputs": [],
   "source": [
    "#scatter of population per sq mile vs Covid case rate\n",
    "x_val=merged_data[\"POPULATION PER SQMI\"]\n",
    "y_val=\"new_case_rate\"\n",
    "    \n",
    "plt.scatter(x_val,y_val)\n",
    "\n",
    "# Set axis labels and title\n",
    "plt.xlabel('Population (per sqmi)')\n",
    "plt.ylabel('Covid Case Rate (%)')\n",
    "plt.title('Population Density vs Covid Case Rate')\n",
    "\n",
    "#linear regression\n",
    "linearregression(merged_data,\"POPULATION PER SQMI\",\"new_case_rate\")\n",
    "\n",
    "#t-test\n",
    "t_statistic,p_value=stats.ttest_ind(x_val,y_val)\n",
    "print(\"P-value: \",p_value)\n",
    "\n",
    "# Display the plot\n",
    "plt.show()"
   ]
  },
  {
   "cell_type": "code",
   "execution_count": null,
   "id": "9c6d1d94",
   "metadata": {},
   "outputs": [],
   "source": [
    "#scatter of percent of people fully vaccinated vs Covid case rate\n",
    "x_val=merged_data[\"Percent_of_People_Fully_Vaccinated\"]\n",
    "y_val=[\"new_case_rate\"]\n",
    "    \n",
    "plt.scatter(x_val,y_val)\n",
    "\n",
    "# Set axis labels and title\n",
    "plt.xlabel('Vaccination Rate (%)')\n",
    "plt.ylabel('Covid Case Rate (%)')\n",
    "plt.title('Complete Vaccination Rate vs. Covid Case Rate')\n",
    "\n",
    "#linear regression\n",
    "linearregression(merged_data,\"Percent_of_People_Fully_Vaccinated\",\"new_case_rate\")\n",
    "\n",
    "#t-test\n",
    "t_statistic,p_value=stats.ttest_ind(x_val,y_val)\n",
    "print(\"P-value: \", p_value)\n",
    "\n",
    "# Display the plot\n",
    "plt.show()"
   ]
  },
  {
   "cell_type": "code",
   "execution_count": null,
   "id": "5316d272",
   "metadata": {},
   "outputs": [],
   "source": []
  }
 ],
 "metadata": {
  "kernelspec": {
   "display_name": "Python 3 (ipykernel)",
   "language": "python",
   "name": "python3"
  },
  "language_info": {
   "codemirror_mode": {
    "name": "ipython",
    "version": 3
   },
   "file_extension": ".py",
   "mimetype": "text/x-python",
   "name": "python",
   "nbconvert_exporter": "python",
   "pygments_lexer": "ipython3",
   "version": "3.10.11"
  }
 },
 "nbformat": 4,
 "nbformat_minor": 5
}
